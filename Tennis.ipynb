{
 "cells": [
  {
   "cell_type": "markdown",
   "metadata": {},
   "source": [
    "# Tennis\n",
    "\n",
    "---\n",
    "\n",
    "In this notebook, we use the Unity ML-Agents environment for the third project of the [Deep Reinforcement Learning Nanodegree](https://www.udacity.com/course/deep-reinforcement-learning-nanodegree--nd893).\n",
    "\n",
    "## 1. Start the environment\n",
    "\n",
    "We begin by importing some necessary packages.  "
   ]
  },
  {
   "cell_type": "code",
   "execution_count": 1,
   "metadata": {},
   "outputs": [],
   "source": [
    "from unityagents import UnityEnvironment\n",
    "import torch\n",
    "import numpy as np\n",
    "import matplotlib.pyplot as plt\n",
    "\n",
    "import rl_lib\n",
    "from rl_lib.replay import ReplayBuffer\n",
    "from rl_lib.agent import DDPGAgent\n",
    "from rl_lib.training import train_ddpg\n",
    "from rl_lib.multi_agent import MultiAgent"
   ]
  },
  {
   "cell_type": "markdown",
   "metadata": {},
   "source": [
    "Next, we will start the environment!  **_Before running the code cell below_**, change the `file_name` parameter to match the location of the Unity environment that you downloaded."
   ]
  },
  {
   "cell_type": "code",
   "execution_count": 2,
   "metadata": {},
   "outputs": [
    {
     "name": "stderr",
     "output_type": "stream",
     "text": [
      "INFO:unityagents:\n",
      "'Academy' started successfully!\n",
      "Unity Academy name: Academy\n",
      "        Number of Brains: 1\n",
      "        Number of External Brains : 1\n",
      "        Lesson number : 0\n",
      "        Reset Parameters :\n",
      "\t\t\n",
      "Unity brain name: TennisBrain\n",
      "        Number of Visual Observations (per agent): 0\n",
      "        Vector Observation space type: continuous\n",
      "        Vector Observation space size (per agent): 8\n",
      "        Number of stacked Vector Observation: 3\n",
      "        Vector Action space type: continuous\n",
      "        Vector Action space size (per agent): 2\n",
      "        Vector Action descriptions: , \n"
     ]
    }
   ],
   "source": [
    "env = UnityEnvironment(file_name=\"Tennis.app\")"
   ]
  },
  {
   "cell_type": "markdown",
   "metadata": {},
   "source": [
    "Environments contain **_brains_** which are responsible for deciding the actions of their associated agents. Here we check for the first brain available, and set it as the default brain we will be controlling from Python."
   ]
  },
  {
   "cell_type": "code",
   "execution_count": 3,
   "metadata": {},
   "outputs": [],
   "source": [
    "# get the default brain\n",
    "brain_name = env.brain_names[0]\n",
    "brain = env.brains[brain_name]"
   ]
  },
  {
   "cell_type": "code",
   "execution_count": 4,
   "metadata": {},
   "outputs": [
    {
     "name": "stdout",
     "output_type": "stream",
     "text": [
      "Number of agents: 2\n",
      "Size of each action: 2\n",
      "There are 2 agents. Each observes a state with length: 24\n",
      "The state for the first agent looks like: [ 0.          0.          0.          0.          0.          0.\n",
      "  0.          0.          0.          0.          0.          0.\n",
      "  0.          0.          0.          0.         -6.65278625 -1.5\n",
      " -0.          0.          6.83172083  6.         -0.          0.        ]\n"
     ]
    }
   ],
   "source": [
    "# get information about the environment\n",
    "\n",
    "# reset the environment\n",
    "env_info = env.reset(train_mode=True)[brain_name]\n",
    "\n",
    "# number of agents\n",
    "num_agents = len(env_info.agents)\n",
    "print('Number of agents:', num_agents)\n",
    "\n",
    "# size of each action\n",
    "action_size = brain.vector_action_space_size\n",
    "print('Size of each action:', action_size)\n",
    "\n",
    "# examine the state space \n",
    "states = env_info.vector_observations\n",
    "state_size = states.shape[1]\n",
    "print('There are {} agents. Each observes a state with length: {}'.format(states.shape[0], state_size))\n",
    "print('The state for the first agent looks like:', states[0])"
   ]
  },
  {
   "cell_type": "markdown",
   "metadata": {},
   "source": [
    "## 2. Train the agent"
   ]
  },
  {
   "cell_type": "markdown",
   "metadata": {},
   "source": [
    "### 2.1 DDPG algorithm\n",
    "\n",
    "In the next cells, we train an agent using the DDPG algorithm."
   ]
  },
  {
   "cell_type": "markdown",
   "metadata": {},
   "source": [
    "#### 2.1 No batch normalization "
   ]
  },
  {
   "cell_type": "code",
   "execution_count": 5,
   "metadata": {},
   "outputs": [],
   "source": [
    "# set-up replay buffer\n",
    "ReplayBufferInput = {\n",
    "    \"action_size\": action_size,  # dimension of each action\n",
    "    \"buffer_size\": int(1e5),  # replay buffer size\n",
    "    \"batch_size\": 256,  # minibatch size\n",
    "    \"random_seed\": 0,\n",
    "}\n",
    "replay_buffers = list()\n",
    "for i in range(num_agents):\n",
    "    replay_buffers.append(ReplayBuffer(**ReplayBufferInput))"
   ]
  },
  {
   "cell_type": "code",
   "execution_count": 6,
   "metadata": {},
   "outputs": [],
   "source": [
    "# set-up the agent \n",
    "AgentInput = {\n",
    "    \"state_size\": state_size, # dimension of each state\n",
    "    \"action_size\": action_size, # dimension of each action\n",
    "    \"agent_id\": num_agents, # unique ID of agents\n",
    "    \"seed\": 0, # random seed\n",
    "    \"nr_agents\": num_agents, # number of agents\n",
    "    \"gamma\": 0.99, # discount factor\n",
    "    \"tau\": 1e-3, # for soft update of target parameters\n",
    "    \"learning_rate_actor\": 1e-4, # learning rate actor network\n",
    "    \"learning_rate_critic\": 1e-4, # learning rate critic network\n",
    "    \"weight_decay_critic\": 0, # weight decay for critic\n",
    "    \"update_n_times\": 3, # sequential batch update\n",
    "    \"normalize_batch_first_layers\": False\n",
    "}\n",
    "\n",
    "agents = list()\n",
    "for i in range(num_agents):\n",
    "    AgentInput[\"agent_id\"] = i\n",
    "    agents.append(DDPGAgent(**AgentInput))\n",
    "    \n",
    "multi_agents_no_batch_normalization = MultiAgent(num_agents, agents, replay_buffers)"
   ]
  },
  {
   "cell_type": "code",
   "execution_count": 7,
   "metadata": {},
   "outputs": [
    {
     "name": "stdout",
     "output_type": "stream",
     "text": [
      "Episode 100\tAverage Max Score: 0.006900\n",
      "Episode 200\tAverage Max Score: 0.015700\n",
      "Episode 300\tAverage Max Score: 0.019200\n",
      "Episode 400\tAverage Max Score: 0.020400\n",
      "Episode 500\tAverage Max Score: 0.024500\n",
      "Episode 600\tAverage Max Score: 0.027100\n",
      "Episode 700\tAverage Max Score: 0.029800\n",
      "Episode 800\tAverage Max Score: 0.034700\n",
      "Episode 900\tAverage Max Score: 0.043200\n",
      "Episode 1000\tAverage Max Score: 0.031000\n",
      "Episode 1100\tAverage Max Score: 0.030300\n",
      "Episode 1200\tAverage Max Score: 0.038000\n",
      "Episode 1300\tAverage Max Score: 0.058000\n",
      "Episode 1400\tAverage Max Score: 0.075000\n",
      "Episode 1500\tAverage Max Score: 0.088800\n",
      "Episode 1600\tAverage Max Score: 0.098500\n",
      "Episode 1700\tAverage Max Score: 0.072200\n",
      "Episode 1800\tAverage Max Score: 0.106600\n",
      "Episode 1900\tAverage Max Score: 0.094900\n",
      "Episode 2000\tAverage Max Score: 0.088300\n",
      "Episode 2100\tAverage Max Score: 0.094600\n",
      "Episode 2200\tAverage Max Score: 0.076400\n",
      "Episode 2300\tAverage Max Score: 0.112400\n",
      "Episode 2400\tAverage Max Score: 0.118100\n",
      "Episode 2500\tAverage Max Score: 0.116300\n",
      "Episode 2600\tAverage Max Score: 0.144300\n",
      "Episode 2700\tAverage Max Score: 0.143000\n",
      "Episode 2800\tAverage Max Score: 0.150300\n",
      "Episode 2900\tAverage Max Score: 0.150400\n",
      "Episode 3000\tAverage Max Score: 0.124700\n",
      "Episode 3100\tAverage Max Score: 0.149000\n",
      "Episode 3200\tAverage Max Score: 0.147900\n",
      "Episode 3300\tAverage Max Score: 0.185500\n",
      "Episode 3400\tAverage Max Score: 0.246800\n",
      "Episode 3500\tAverage Max Score: 0.203200\n",
      "Episode 3600\tAverage Max Score: 0.390800\n",
      "Episode 3700\tAverage Max Score: 0.411000\n",
      "Episode 3800\tAverage Max Score: 0.500000\n",
      "\n",
      "Environment solved in 3700 episodes!\tAverage Max Score: 0.500000\n",
      "Episode 3900\tAverage Max Score: 0.524100\n",
      "Episode 4000\tAverage Max Score: 0.497300\n"
     ]
    }
   ],
   "source": [
    "Settings = {\n",
    "    \"n_episodes\": 4000, # maximum number of training episodes\n",
    "    \"max_t\": 200000, # maximum number of timesteps per episode\n",
    "    \"min_avg_score\": 0.5, # minimum average score over 100 episodes that the agent must achieve to consider the task fulfilled\n",
    "    \"continue_learning\": True, # if true, the agent continues to learn after reaching min_avg_score until reaching n_episodes\n",
    "    \"filename\": \"DDPG\", #  name for the file that contains the trained network parameters\n",
    "}\n",
    "\n",
    "# start training\n",
    "scores = train_ddpg(env, brain_name, multi_agents_no_batch_normalization, **Settings)"
   ]
  },
  {
   "cell_type": "markdown",
   "metadata": {},
   "source": [
    "#### 2.1 Use batch normalization layers"
   ]
  },
  {
   "cell_type": "code",
   "execution_count": 8,
   "metadata": {},
   "outputs": [],
   "source": [
    "# set-up replay buffer\n",
    "ReplayBufferInput = {\n",
    "    \"action_size\": action_size,  # dimension of each action\n",
    "    \"buffer_size\": int(1e5),  # replay buffer size\n",
    "    \"batch_size\": 256,  # minibatch size\n",
    "    \"random_seed\": 0,\n",
    "}\n",
    "replay_buffers = list()\n",
    "for i in range(num_agents):\n",
    "    replay_buffers.append(ReplayBuffer(**ReplayBufferInput))"
   ]
  },
  {
   "cell_type": "code",
   "execution_count": 9,
   "metadata": {},
   "outputs": [],
   "source": [
    "# set-up the agent \n",
    "AgentInput = {\n",
    "    \"state_size\": state_size, # dimension of each state\n",
    "    \"action_size\": action_size, # dimension of each action\n",
    "    \"agent_id\": num_agents, # unique ID of agents\n",
    "    \"seed\": 0, # random seed\n",
    "    \"nr_agents\": num_agents, # number of agents\n",
    "    \"gamma\": 0.99, # discount factor\n",
    "    \"tau\": 1e-3, # for soft update of target parameters\n",
    "    \"learning_rate_actor\": 1e-4, # learning rate actor network\n",
    "    \"learning_rate_critic\": 1e-4, # learning rate critic network\n",
    "    \"weight_decay_critic\": 0, # weight decay for critic\n",
    "    \"update_n_times\": 3, # sequential batch update\n",
    "    \"normalize_batch_first_layers\": True\n",
    "}\n",
    "\n",
    "agents = list()\n",
    "for i in range(num_agents):\n",
    "    AgentInput[\"agent_id\"] = i\n",
    "    agents.append(DDPGAgent(**AgentInput))\n",
    "    \n",
    "multi_agents_batch_normalization = MultiAgent(num_agents, agents, replay_buffers)"
   ]
  },
  {
   "cell_type": "code",
   "execution_count": 10,
   "metadata": {},
   "outputs": [
    {
     "name": "stdout",
     "output_type": "stream",
     "text": [
      "Episode 100\tAverage Max Score: 0.007600\n",
      "Episode 200\tAverage Max Score: 0.010800\n",
      "Episode 300\tAverage Max Score: 0.002900\n",
      "Episode 400\tAverage Max Score: 0.005500\n",
      "Episode 500\tAverage Max Score: 0.011800\n",
      "Episode 600\tAverage Max Score: 0.012700\n",
      "Episode 700\tAverage Max Score: 0.026200\n",
      "Episode 800\tAverage Max Score: 0.029500\n",
      "Episode 900\tAverage Max Score: 0.057800\n",
      "Episode 1000\tAverage Max Score: 0.066400\n",
      "Episode 1100\tAverage Max Score: 0.085300\n",
      "Episode 1200\tAverage Max Score: 0.084800\n",
      "Episode 1300\tAverage Max Score: 0.109100\n",
      "Episode 1400\tAverage Max Score: 0.115000\n",
      "Episode 1500\tAverage Max Score: 0.137500\n",
      "Episode 1600\tAverage Max Score: 0.196200\n",
      "Episode 1700\tAverage Max Score: 0.337700\n",
      "Episode 1800\tAverage Max Score: 0.388300\n",
      "Episode 1869\tAverage Max Score: 0.500900\n",
      "Environment solved in 1769 episodes!\tAverage Max Score: 0.500900\n",
      "Episode 1900\tAverage Max Score: 0.456800\n",
      "Episode 2000\tAverage Max Score: 0.515900\n",
      "Episode 2100\tAverage Max Score: 0.510300\n",
      "Episode 2200\tAverage Max Score: 0.329300\n",
      "Episode 2300\tAverage Max Score: 0.430800\n",
      "Episode 2400\tAverage Max Score: 0.422500\n",
      "Episode 2500\tAverage Max Score: 0.427600\n",
      "Episode 2600\tAverage Max Score: 0.575600\n",
      "Episode 2700\tAverage Max Score: 0.622500\n",
      "Episode 2800\tAverage Max Score: 0.595800\n",
      "Episode 2900\tAverage Max Score: 0.507200\n",
      "Episode 3000\tAverage Max Score: 0.739500\n",
      "Episode 3100\tAverage Max Score: 0.746800\n",
      "Episode 3200\tAverage Max Score: 0.482900\n",
      "Episode 3300\tAverage Max Score: 0.497500\n",
      "Episode 3400\tAverage Max Score: 0.491100\n",
      "Episode 3500\tAverage Max Score: 0.679200\n",
      "Episode 3600\tAverage Max Score: 0.731000\n",
      "Episode 3700\tAverage Max Score: 0.721000\n",
      "Episode 3800\tAverage Max Score: 0.526500\n",
      "Episode 3900\tAverage Max Score: 0.501500\n",
      "Episode 4000\tAverage Max Score: 0.428300\n"
     ]
    }
   ],
   "source": [
    "Settings = {\n",
    "    \"n_episodes\": 4000, # maximum number of training episodes\n",
    "    \"max_t\": 200000, # maximum number of timesteps per episode\n",
    "    \"min_avg_score\": 0.5, # minimum average score over 100 episodes that the agent must achieve to consider the task fulfilled\n",
    "    \"continue_learning\": True, # if true, the agent continues to learn after reaching min_avg_score until reaching n_episodes\n",
    "    \"filename\": \"DDPGBatchNorm_\", #  name for the file that contains the trained network parameters\n",
    "}\n",
    "\n",
    "# start training\n",
    "scores_batch_normalization = train_ddpg(env, brain_name, multi_agents_batch_normalization, **Settings)"
   ]
  },
  {
   "cell_type": "markdown",
   "metadata": {},
   "source": [
    "## 3. Visualize results"
   ]
  },
  {
   "cell_type": "code",
   "execution_count": 11,
   "metadata": {},
   "outputs": [
    {
     "data": {
      "text/plain": [
       "<matplotlib.legend.Legend at 0x7f8cf3a0b978>"
      ]
     },
     "execution_count": 11,
     "metadata": {},
     "output_type": "execute_result"
    },
    {
     "data": {
      "image/png": "[encoded data removed]",
      "text/plain": [
       "<Figure size 432x288 with 1 Axes>"
      ]
     },
     "metadata": {
      "needs_background": "light"
     },
     "output_type": "display_data"
    },
    {
     "data": {
      "image/png": "[encoded data removed]",
      "text/plain": [
       "<Figure size 432x288 with 1 Axes>"
      ]
     },
     "metadata": {
      "needs_background": "light"
     },
     "output_type": "display_data"
    }
   ],
   "source": [
    "import pandas as pd\n",
    "\n",
    "# plot the scores\n",
    "fig = plt.figure()\n",
    "ax = fig.add_subplot(111)\n",
    "ddpg_plot, = ax.plot(np.arange(len(scores)), scores)\n",
    "ddpg_plot.set_label('DDPG - no batch normalization')\n",
    "ddpg_plot, = ax.plot(np.arange(len(scores_batch_normalization)), scores_batch_normalization)\n",
    "ddpg_plot.set_label('DDPG - batch normalization')\n",
    "plt.ylabel('Score')\n",
    "plt.xlabel('Episode #')\n",
    "plt.title('Score')\n",
    "ax.legend()\n",
    "\n",
    "\n",
    "# plot the scores\n",
    "fig = plt.figure()\n",
    "ax = fig.add_subplot(111)\n",
    "ddpg_plot, = ax.plot(pd.DataFrame(scores).rolling(50).mean())\n",
    "ddpg_plot.set_label('DDPG - no batch normalization')\n",
    "ddpg_plot, = ax.plot(pd.DataFrame(scores_batch_normalization).rolling(50).mean())\n",
    "ddpg_plot.set_label('DDPG - batch normalization')\n",
    "plt.ylabel('Score')\n",
    "plt.xlabel('Episode #')\n",
    "plt.title('Score: Rolling Mean')\n",
    "ax.legend()\n"
   ]
  },
  {
   "cell_type": "code",
   "execution_count": 15,
   "metadata": {},
   "outputs": [],
   "source": [
    "def visualize_agent(agents, num_agents, env, env_info):\n",
    "    env_info = env.reset(train_mode=False)[brain_name] # reset the environment\n",
    "    state = env_info.vector_observations               # get the current state\n",
    "    score = np.zeros(num_agents)                       # initialize the score\n",
    "    while True:\n",
    "        action = agents.act(state, add_noise=False, clip=True)  # select an action\n",
    "        env_info = env.step(action)[brain_name]                # send the action to the environment\n",
    "        next_state = env_info.vector_observations              # get the next state\n",
    "        reward = env_info.rewards                              # get the reward\n",
    "        done = env_info.local_done                             # see if episode has finished\n",
    "        score += reward                                        # update the score\n",
    "        state = next_state                                     # roll over the state to next time step\n",
    "        if np.any(done):                                       # exit loop if episode finished\n",
    "            break\n",
    "\n",
    "    print(\"Score: {}\".format(score))"
   ]
  },
  {
   "cell_type": "code",
   "execution_count": 16,
   "metadata": {},
   "outputs": [
    {
     "name": "stdout",
     "output_type": "stream",
     "text": [
      "Score: [2.60000004 2.60000004]\n"
     ]
    }
   ],
   "source": [
    "# see the agent acting in the environment\n",
    "for i in range(num_agents):\n",
    "    multi_agents_batch_normalization.agents[i].actor_network_local.load_state_dict(\n",
    "        torch.load(\"DDPGmin_score_achieved_\" + str(i) + \"_actor.pth\"))\n",
    "\n",
    "visualize_agent(multi_agents_batch_normalization, num_agents, env, env_info)"
   ]
  },
  {
   "cell_type": "markdown",
   "metadata": {},
   "source": [
    "When finished, you can close the environment."
   ]
  },
  {
   "cell_type": "code",
   "execution_count": 17,
   "metadata": {},
   "outputs": [],
   "source": [
    "env.close()"
   ]
  }
 ],
 "metadata": {
  "kernelspec": {
   "display_name": "drlnd",
   "language": "python",
   "name": "drlnd"
  },
  "language_info": {
   "codemirror_mode": {
    "name": "ipython",
    "version": 3
   },
   "file_extension": ".py",
   "mimetype": "text/x-python",
   "name": "python",
   "nbconvert_exporter": "python",
   "pygments_lexer": "ipython3",
   "version": "3.6.13"
  }
 },
 "nbformat": 4,
 "nbformat_minor": 2
}
